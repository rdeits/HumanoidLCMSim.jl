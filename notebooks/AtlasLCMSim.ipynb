{
 "cells": [
  {
   "cell_type": "code",
   "execution_count": null,
   "metadata": {
    "collapsed": false
   },
   "outputs": [],
   "source": [
    "using HumanoidLCMSim\n",
    "using RigidBodySim\n",
    "using RigidBodyDynamics\n",
    "using AtlasRobot\n",
    "using OrdinaryDiffEq\n",
    "using DiffEqCallbacks\n",
    "using RigidBodyTreeInspector\n",
    "using RigidBodyDynamics.Contact"
   ]
  },
  {
   "cell_type": "code",
   "execution_count": 2,
   "metadata": {
    "collapsed": false
   },
   "outputs": [],
   "source": [
    "mechanism = AtlasRobot.mechanism(remove_fixed_tree_joints = false)\n",
    "actuatorconfig = parse_actuators(mechanism, AtlasRobot.urdfpath())\n",
    "remove_fixed_tree_joints!(mechanism);"
   ]
  },
  {
   "cell_type": "code",
   "execution_count": 3,
   "metadata": {
    "collapsed": false
   },
   "outputs": [],
   "source": [
    "# add environment\n",
    "rootframe = root_frame(mechanism)\n",
    "ground = HalfSpace3D(Point3D(rootframe, 0., 0., 0.), FreeVector3D(rootframe, 0., 0., 1.))\n",
    "add_environment_primitive!(mechanism, ground);"
   ]
  },
  {
   "cell_type": "code",
   "execution_count": 4,
   "metadata": {
    "collapsed": false
   },
   "outputs": [],
   "source": [
    "# Create visualizer\n",
    "any_open_visualizer_windows() || (new_visualizer_window(); sleep(1));\n",
    "vis = Visualizer()[:atlas]\n",
    "setgeometry!(vis, mechanism, RigidBodyTreeInspector.parse_urdf(AtlasRobot.urdfpath(), mechanism; package_path = [AtlasRobot.packagepath()]))"
   ]
  },
  {
   "cell_type": "code",
   "execution_count": 5,
   "metadata": {
    "collapsed": false
   },
   "outputs": [],
   "source": [
    "feet = Dict(Sides.left => findbody(mechanism, \"l_foot\"), Sides.right => findbody(mechanism, \"r_foot\"))\n",
    "hands = Dict(Sides.left => findbody(mechanism, \"l_hand\"), Sides.right => findbody(mechanism, \"r_hand\"))\n",
    "robot_info = HumanoidRobotInfo(mechanism, feet, hands, actuatorconfig);"
   ]
  },
  {
   "cell_type": "code",
   "execution_count": 6,
   "metadata": {
    "collapsed": false
   },
   "outputs": [
    {
     "data": {
      "text/plain": [
       "MechanismState{Float64, Float64, Float64, …}(…)"
      ]
     },
     "execution_count": 6,
     "metadata": {},
     "output_type": "execute_result"
    }
   ],
   "source": [
    "state = MechanismState(mechanism)"
   ]
  },
  {
   "cell_type": "code",
   "execution_count": 7,
   "metadata": {
    "collapsed": false
   },
   "outputs": [
    {
     "data": {
      "text/plain": [
       "initialize (generic function with 1 method)"
      ]
     },
     "execution_count": 7,
     "metadata": {},
     "output_type": "execute_result"
    }
   ],
   "source": [
    "function initialize(state::MechanismState, atlas::Mechanism, vis::Visualizer)\n",
    "    zero!(state)\n",
    "    kneebend = 1.1\n",
    "    hipbendextra = 0.1\n",
    "    for sideprefix in ('l', 'r')\n",
    "        set_configuration!(state, findjoint(atlas, \"$(sideprefix)_leg_kny\"), [kneebend])\n",
    "        set_configuration!(state, findjoint(atlas, \"$(sideprefix)_leg_hpy\"), [-kneebend / 2 + hipbendextra])\n",
    "        set_configuration!(state, findjoint(atlas, \"$(sideprefix)_leg_aky\"), [-kneebend / 2 - hipbendextra])\n",
    "    end\n",
    "    floatingjoint = first(out_joints(root_body(mechanism), mechanism))\n",
    "    set_configuration!(state, floatingjoint, [1; 0; 0; 0; 0; 0; 0.85])\n",
    "    settransform!(vis, state)\n",
    "end"
   ]
  },
  {
   "cell_type": "code",
   "execution_count": 8,
   "metadata": {
    "collapsed": false
   },
   "outputs": [],
   "source": [
    "lcmcontroller = LCMController(robot_info)\n",
    "controller = PeriodicController(1 / 300, lcmcontroller)\n",
    "initialize(state, mechanism, vis)\n",
    "final_time = 1.\n",
    "problem = ODEProblem(state, (0., final_time), controller)\n",
    "# sol = solve(problem, Tsit5(), abs_tol = 1e-10, dt = 0.05, callback = CallbackSet(vis, state));"
   ]
  },
  {
   "cell_type": "code",
   "execution_count": 9,
   "metadata": {
    "collapsed": false
   },
   "outputs": [],
   "source": [
    "# animate(vis, state, sol)"
   ]
  },
  {
   "cell_type": "code",
   "execution_count": 10,
   "metadata": {
    "collapsed": false
   },
   "outputs": [],
   "source": [
    "# function testfunc(controller, τ, t, state, n)\n",
    "#     for i = 1 : n\n",
    "#         controller(τ, t, state)\n",
    "#     end\n",
    "# end\n",
    "\n",
    "# testfunc(controller, τ, t, state, 1)\n",
    "# Profile.clear_malloc_data()\n",
    "# @profile testfunc(controller, τ, t, state, 100000)\n",
    "\n",
    "# using ProfileView\n",
    "# ProfileView.view()"
   ]
  }
 ],
 "metadata": {
  "kernelspec": {
   "display_name": "Julia 0.6.2",
   "language": "julia",
   "name": "julia-0.6"
  },
  "language_info": {
   "file_extension": ".jl",
   "mimetype": "application/julia",
   "name": "julia",
   "version": "0.6.2"
  }
 },
 "nbformat": 4,
 "nbformat_minor": 1
}
